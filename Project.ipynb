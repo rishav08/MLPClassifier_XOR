{
 "cells": [
  {
   "cell_type": "code",
   "execution_count": 3,
   "metadata": {},
   "outputs": [
    {
     "name": "stdout",
     "output_type": "stream",
     "text": [
      "------------------------------------------------------------\n",
      "Training loss = 0.00198243456841\n",
      "\n",
      "Coefficients :\n",
      "[array([[ 12.01084395,  20.98643937],\n",
      "       [-12.66659713,  -7.60002924]]), array([[ 17.83021742],\n",
      "       [-18.16683513]])]\n",
      "\n",
      "Intercepts :\n",
      "[array([-8.17328102,  4.11943192]), array([ 9.37652725])]\n",
      "\n",
      "Predict for [[0., 0.], [1., 1.], [0., 1.],  [1., 0.]]\n",
      "Predicted value = [0 0 1 1]\n",
      "------------------------------------------------------------\n"
     ]
    }
   ],
   "source": [
    "import warnings\n",
    "warnings.simplefilter(\"ignore\")\n",
    "from sklearn.neural_network import MLPClassifier\n",
    "X = [[0., 0.], [1., 1.], [0., 1.],  [1., 0.]]\n",
    "y = [0, 0, 1, 1]\n",
    "clf = MLPClassifier(solver='lbfgs', alpha=1e-5, hidden_layer_sizes=(2), random_state=100, activation='logistic', max_iter=200)\n",
    "clf.fit(X, y)\n",
    "print(\"------------------------------------------------------------\")\n",
    "print(\"Training loss = \" + str(clf.loss_))\n",
    "print()\n",
    "print(\"Coefficients :\")\n",
    "print(clf.coefs_)\n",
    "print()\n",
    "print(\"Intercepts :\")\n",
    "print(clf.intercepts_)\n",
    "print()\n",
    "print(\"Predict for [[0., 0.], [1., 1.], [0., 1.],  [1., 0.]]\")\n",
    "print(\"Predicted value = \"+ str(clf.predict([[0., 0.], [1., 1.], [0., 1.],  [1., 0.]])))\n",
    "print(\"------------------------------------------------------------\")"
   ]
  },
  {
   "cell_type": "code",
   "execution_count": null,
   "metadata": {
    "collapsed": true
   },
   "outputs": [],
   "source": []
  }
 ],
 "metadata": {
  "kernelspec": {
   "display_name": "Python 3",
   "language": "python",
   "name": "python3"
  },
  "language_info": {
   "codemirror_mode": {
    "name": "ipython",
    "version": 3
   },
   "file_extension": ".py",
   "mimetype": "text/x-python",
   "name": "python",
   "nbconvert_exporter": "python",
   "pygments_lexer": "ipython3",
   "version": "3.6.3"
  }
 },
 "nbformat": 4,
 "nbformat_minor": 2
}
